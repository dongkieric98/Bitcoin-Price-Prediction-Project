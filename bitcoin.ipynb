{
 "cells": [
  {
   "cell_type": "markdown",
   "metadata": {},
   "source": [
    "### 01. 라이브러리 및 데이터 호출"
   ]
  },
  {
   "cell_type": "code",
   "execution_count": 35,
   "metadata": {},
   "outputs": [],
   "source": [
    "import numpy as np\n",
    "import pandas as pd\n",
    "from sklearn.preprocessing import MinMaxScaler\n",
    "import tensorflow as tf\n",
    "from tensorflow.keras.models import Sequential\n",
    "from tensorflow.keras.layers import LSTM, Dense\n",
    "import matplotlib.pyplot as plt\n",
    "from sklearn.metrics import mean_squared_error\n",
    "from tensorflow.keras import backend as K"
   ]
  },
  {
   "cell_type": "code",
   "execution_count": 36,
   "metadata": {},
   "outputs": [],
   "source": [
    "train = pd.read_csv('data/train.csv')\n",
    "submission = pd.read_csv('data/submission.csv')"
   ]
  },
  {
   "cell_type": "markdown",
   "metadata": {},
   "source": [
    "--------------------------"
   ]
  },
  {
   "cell_type": "markdown",
   "metadata": {},
   "source": [
    "### 02. 데이터 기초 정보 확인"
   ]
  },
  {
   "cell_type": "code",
   "execution_count": 37,
   "metadata": {},
   "outputs": [],
   "source": [
    "# 데이터 처음,끝부분 확인\n",
    "head = train.head(5)\n",
    "tail = train.head(5)\n",
    "\n",
    "# Columns 확인\n",
    "columns = train.columns\n",
    "\n",
    "# Data Shape 확인\n",
    "shape = train.shape\n",
    "\n",
    "# 통계값 확인\n",
    "describe = train.describe()\n",
    "\n",
    "# Columns Type 확인\n",
    "dtypes = train.dtypes"
   ]
  },
  {
   "cell_type": "markdown",
   "metadata": {},
   "source": [
    "-----------------------"
   ]
  },
  {
   "cell_type": "markdown",
   "metadata": {},
   "source": [
    "### 03. 데이터 전처리"
   ]
  },
  {
   "cell_type": "markdown",
   "metadata": {},
   "source": [
    "#### 3-1. 결측치 확인\n",
    "###### [1] 결측치와 중복되는 행이 모두 없음을 확인할 수 있다\n",
    "###### [2] 따라서 결측치 처리에 대한 부분이 불필요"
   ]
  },
  {
   "cell_type": "code",
   "execution_count": 38,
   "metadata": {},
   "outputs": [],
   "source": [
    "# 컬럼별 결측치 파악\n",
    "null = train.isna().sum()\n",
    "\n",
    "# 중복되는 행 파악\n",
    "duplicated = train[train.duplicated()]"
   ]
  },
  {
   "cell_type": "markdown",
   "metadata": {},
   "source": [
    "#### 3-2. 시간 데이터 전처리\n",
    "###### [1] Time 열을 datetime 형식으로 변환\n",
    "###### [2] Time 열을 DataFrame의 인덱스로 설정"
   ]
  },
  {
   "cell_type": "code",
   "execution_count": 39,
   "metadata": {},
   "outputs": [],
   "source": [
    "# Time 열을 datetime 형식으로 변환\n",
    "train['Time'] = pd.to_datetime(train['Time'])\n",
    "submission['Time'] = pd.to_datetime(submission['Time'])\n",
    "\n",
    "# 데이터 정렬\n",
    "train.sort_values('Time', inplace=True)"
   ]
  },
  {
   "cell_type": "markdown",
   "metadata": {},
   "source": [
    "#### 3-3. 데이터 스케일링"
   ]
  },
  {
   "cell_type": "code",
   "execution_count": 40,
   "metadata": {},
   "outputs": [],
   "source": [
    "# MinMaxScaler 객체를 생성 (이 객체는 데이터를 0과 1 사이로 변환)\n",
    "scaler = MinMaxScaler(feature_range=(0, 1))\n",
    "\n",
    "# train 데이터의 모든 컬럼에 대해 스케일링 적용\n",
    "scaled_data = scaler.fit_transform(train[['Open', 'High', 'Low', 'Close', 'Volume', 'quote_av', 'trades', 'tb_base_av', 'tb_quote_av']])"
   ]
  },
  {
   "cell_type": "markdown",
   "metadata": {},
   "source": [
    "-------------------------"
   ]
  },
  {
   "cell_type": "markdown",
   "metadata": {},
   "source": [
    "#### 4. 데이터 모델링"
   ]
  },
  {
   "cell_type": "markdown",
   "metadata": {},
   "source": [
    "##### 4-1. LSTM 입력 형식에 맞게 데이터 재구성\n",
    "###### [1] "
   ]
  },
  {
   "cell_type": "code",
   "execution_count": 41,
   "metadata": {},
   "outputs": [],
   "source": [
    "# LSTM 입력 형식에 맞게 데이터 재구성\n",
    "sequence_length = 60\n",
    "X_train, y_train = [], []\n",
    "for i in range(sequence_length, len(scaled_data)):\n",
    "    X_train.append(scaled_data[i-sequence_length:i])\n",
    "    y_train.append(scaled_data[i, 3])  # Close 값 예측\n",
    "\n",
    "X_train, y_train = np.array(X_train), np.array(y_train)"
   ]
  },
  {
   "cell_type": "markdown",
   "metadata": {},
   "source": [
    "##### 4-2. LSTM 모델 구성"
   ]
  },
  {
   "cell_type": "code",
   "execution_count": 42,
   "metadata": {},
   "outputs": [
    {
     "name": "stderr",
     "output_type": "stream",
     "text": [
      "c:\\Users\\NT930QCG\\AppData\\Local\\Programs\\Python\\Python39\\lib\\site-packages\\keras\\src\\layers\\rnn\\rnn.py:204: UserWarning: Do not pass an `input_shape`/`input_dim` argument to a layer. When using Sequential models, prefer using an `Input(shape)` object as the first layer in the model instead.\n",
      "  super().__init__(**kwargs)\n"
     ]
    }
   ],
   "source": [
    "# LSTM 모델 구성\n",
    "model = Sequential()\n",
    "model.add(LSTM(units=50, return_sequences=True, input_shape=(X_train.shape[1], X_train.shape[2])))\n",
    "model.add(Dropout(0.2))\n",
    "model.add(LSTM(units=50, return_sequences=False))\n",
    "model.add(Dropout(0.2))\n",
    "model.add(Dense(units=1))"
   ]
  },
  {
   "cell_type": "markdown",
   "metadata": {},
   "source": [
    "##### 4-3. 모델 컴파일 및 학습"
   ]
  },
  {
   "cell_type": "code",
   "execution_count": 43,
   "metadata": {},
   "outputs": [
    {
     "name": "stdout",
     "output_type": "stream",
     "text": [
      "Epoch 1/20\n",
      "\u001b[1m1704/1704\u001b[0m \u001b[32m━━━━━━━━━━━━━━━━━━━━\u001b[0m\u001b[37m\u001b[0m \u001b[1m111s\u001b[0m 59ms/step - loss: 0.0391\n",
      "Epoch 2/20\n",
      "\u001b[1m1704/1704\u001b[0m \u001b[32m━━━━━━━━━━━━━━━━━━━━\u001b[0m\u001b[37m\u001b[0m \u001b[1m89s\u001b[0m 52ms/step - loss: 0.0214\n",
      "Epoch 3/20\n",
      "\u001b[1m1704/1704\u001b[0m \u001b[32m━━━━━━━━━━━━━━━━━━━━\u001b[0m\u001b[37m\u001b[0m \u001b[1m121s\u001b[0m 71ms/step - loss: 0.0205\n",
      "Epoch 4/20\n",
      "\u001b[1m1704/1704\u001b[0m \u001b[32m━━━━━━━━━━━━━━━━━━━━\u001b[0m\u001b[37m\u001b[0m \u001b[1m146s\u001b[0m 86ms/step - loss: 0.0201\n",
      "Epoch 5/20\n",
      "\u001b[1m1704/1704\u001b[0m \u001b[32m━━━━━━━━━━━━━━━━━━━━\u001b[0m\u001b[37m\u001b[0m \u001b[1m69672s\u001b[0m 41s/step - loss: 0.0200\n",
      "Epoch 6/20\n",
      "\u001b[1m1704/1704\u001b[0m \u001b[32m━━━━━━━━━━━━━━━━━━━━\u001b[0m\u001b[37m\u001b[0m \u001b[1m88s\u001b[0m 52ms/step - loss: 0.0202\n",
      "Epoch 7/20\n",
      "\u001b[1m1419/1704\u001b[0m \u001b[32m━━━━━━━━━━━━━━━━\u001b[0m\u001b[37m━━━━\u001b[0m \u001b[1m23s\u001b[0m 82ms/step - loss: 0.0197"
     ]
    }
   ],
   "source": [
    "# RMSE 손실 함수 정의\n",
    "def rmse(y_true, y_pred):\n",
    "    return K.sqrt(K.mean(K.square(y_pred - y_true)))\n",
    "\n",
    "# 모델 컴파일 (손실 함수로 RMSE 사용)\n",
    "model.compile(optimizer='adam', loss=rmse)\n",
    "\n",
    "# 모델 학습\n",
    "model.fit(X_train, y_train, epochs=20, batch_size=32)"
   ]
  },
  {
   "cell_type": "markdown",
   "metadata": {},
   "source": [
    "##### 4-4. 모델 예측"
   ]
  },
  {
   "cell_type": "code",
   "execution_count": null,
   "metadata": {},
   "outputs": [],
   "source": [
    "# 예측 준비\n",
    "last_sequence = scaled_data[-sequence_length:]  # 마지막 시퀀스\n",
    "predicted_closes = []\n",
    "\n",
    "for i in range(len(submission)):\n",
    "    input_data = np.expand_dims(last_sequence, axis=0)\n",
    "    predicted_close = model.predict(input_data)\n",
    "    predicted_closes.append(predicted_close[0, 0])\n",
    "\n",
    "    # 예측된 값을 마지막 시퀀스에 추가하고 스케일링 해제\n",
    "    new_sequence = np.concatenate((last_sequence[1:], np.array([[0, 0, 0, predicted_close, 0, 0, 0, 0]])), axis=0)\n",
    "    last_sequence = new_sequence"
   ]
  },
  {
   "cell_type": "markdown",
   "metadata": {},
   "source": [
    "##### 4-5. 스케일링 되돌리기"
   ]
  },
  {
   "cell_type": "code",
   "execution_count": null,
   "metadata": {},
   "outputs": [],
   "source": [
    "# 스케일링 되돌리기\n",
    "predicted_closes = scaler.inverse_transform(np.concatenate((np.zeros((len(predicted_closes), 3)), np.array(predicted_closes).reshape(-1, 1), np.zeros((len(predicted_closes), 4))), axis=1))[:, 3]"
   ]
  },
  {
   "cell_type": "markdown",
   "metadata": {},
   "source": [
    "#### 5. 제출 파일 생성"
   ]
  },
  {
   "cell_type": "code",
   "execution_count": null,
   "metadata": {},
   "outputs": [],
   "source": [
    "# 스케일링 되돌리기\n",
    "predicted_closes = scaler.inverse_transform(np.concatenate((np.zeros((len(predicted_closes), 3)), np.array(predicted_closes).reshape(-1, 1), np.zeros((len(predicted_closes), 4))), axis=1))[:, 3]\n",
    "\n",
    "# 제출 파일 생성\n",
    "submission['Close'] = predicted_closes\n",
    "submission.to_csv('data/submission_result.csv', index=False)\n",
    "print(\"Submission file created successfully.\")"
   ]
  }
 ],
 "metadata": {
  "kernelspec": {
   "display_name": "Python 3",
   "language": "python",
   "name": "python3"
  },
  "language_info": {
   "codemirror_mode": {
    "name": "ipython",
    "version": 3
   },
   "file_extension": ".py",
   "mimetype": "text/x-python",
   "name": "python",
   "nbconvert_exporter": "python",
   "pygments_lexer": "ipython3",
   "version": "3.9.5"
  }
 },
 "nbformat": 4,
 "nbformat_minor": 2
}
