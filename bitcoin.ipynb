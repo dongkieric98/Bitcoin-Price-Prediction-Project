{
 "cells": [
  {
   "cell_type": "markdown",
   "metadata": {},
   "source": [
    "### 01. 라이브러리 및 데이터 호출"
   ]
  },
  {
   "cell_type": "code",
   "execution_count": 1,
   "metadata": {},
   "outputs": [],
   "source": [
    "import pandas as pd\n",
    "import numpy as np\n",
    "from sklearn.preprocessing import MinMaxScaler\n",
    "from keras.models import Sequential\n",
    "from keras.layers import LSTM, Dense\n",
    "import matplotlib.pyplot as plt"
   ]
  },
  {
   "cell_type": "code",
   "execution_count": 2,
   "metadata": {},
   "outputs": [],
   "source": [
    "train = pd.read_csv('data/train.csv')\n",
    "submission = pd.read_csv('data/submission.csv')"
   ]
  },
  {
   "cell_type": "markdown",
   "metadata": {},
   "source": [
    "--------------------------"
   ]
  },
  {
   "cell_type": "markdown",
   "metadata": {},
   "source": [
    "### 02. 데이터 기초 정보 확인"
   ]
  },
  {
   "cell_type": "code",
   "execution_count": 3,
   "metadata": {},
   "outputs": [],
   "source": [
    "# 데이터 처음,끝부분 확인\n",
    "head = train.head(5)\n",
    "tail = train.head(5)\n",
    "\n",
    "# Columns 확인\n",
    "columns = train.columns\n",
    "\n",
    "# Data Shape 확인\n",
    "shape = train.shape\n",
    "\n",
    "# 통계값 확인\n",
    "describe = train.describe()\n",
    "\n",
    "# Columns Type 확인\n",
    "dtypes = train.dtypes"
   ]
  },
  {
   "cell_type": "markdown",
   "metadata": {},
   "source": [
    "-----------------------"
   ]
  },
  {
   "cell_type": "markdown",
   "metadata": {},
   "source": [
    "### 03. 데이터 전처리"
   ]
  },
  {
   "cell_type": "markdown",
   "metadata": {},
   "source": [
    "#### 3-1. 결측치 확인\n",
    "###### [1] 결측치와 중복되는 행이 모두 없음을 확인할 수 있다\n",
    "###### [2] 따라서 결측치 처리에 대한 부분이 불필요"
   ]
  },
  {
   "cell_type": "code",
   "execution_count": 4,
   "metadata": {},
   "outputs": [],
   "source": [
    "# 컬럼별 결측치 파악\n",
    "null = train.isna().sum()\n",
    "\n",
    "# 중복되는 행 파악\n",
    "duplicated = train[train.duplicated()]"
   ]
  },
  {
   "cell_type": "markdown",
   "metadata": {},
   "source": [
    "#### 3-2. 시간 데이터 전처리\n",
    "###### [1] 시간 기반 데이터는 Time 컬럼을 인덱스로 설정하면 시간 시계열 분석에 유용"
   ]
  },
  {
   "cell_type": "code",
   "execution_count": 5,
   "metadata": {},
   "outputs": [],
   "source": [
    "# 01. time 컬럼을 datetime 형식으로 변환\n",
    "train['Time'] = pd.to_datetime(train['Time'])\n",
    "\n",
    "# 02. 년, 월, 일, 시, 분, 초 등의 특성 추출\n",
    "train['year'] = train['Time'].dt.year\n",
    "train['month'] = train['Time'].dt.month\n",
    "train['day'] = train['Time'].dt.day\n",
    "train['hour'] = train['Time'].dt.hour\n",
    "train['minute'] = train['Time'].dt.minute\n",
    "train['second'] = train['Time'].dt.second\n",
    "\n",
    "# 03. 요일 추출 (0=월요일, 6=일요일)\n",
    "train['weekday'] = train['Time'].dt.weekday\n",
    "\n",
    "# 04. 주차 추출\n",
    "train['week'] = train['Time'].dt.isocalendar().week\n"
   ]
  }
 ],
 "metadata": {
  "kernelspec": {
   "display_name": "Python 3",
   "language": "python",
   "name": "python3"
  },
  "language_info": {
   "codemirror_mode": {
    "name": "ipython",
    "version": 3
   },
   "file_extension": ".py",
   "mimetype": "text/x-python",
   "name": "python",
   "nbconvert_exporter": "python",
   "pygments_lexer": "ipython3",
   "version": "3.9.5"
  }
 },
 "nbformat": 4,
 "nbformat_minor": 2
}
